{
 "cells": [
  {
   "cell_type": "code",
   "execution_count": 1,
   "id": "74665f09",
   "metadata": {},
   "outputs": [],
   "source": [
    "import numpy as np\n",
    "import pandas as pd\n",
    "import matplotlib.pyplot as plt\n",
    "import seaborn as sns\n",
    "import random\n",
    "%matplotlib inline\n",
    "\n",
    "#from pylab import mpl\n",
    "#mpl.rcParams['font.sans-serif'] = ['SimHei']\n",
    "\n",
    "import sklearn\n",
    "from sklearn.svm import SVC\n",
    "from sklearn.neighbors import KNeighborsClassifier\n",
    "from sklearn.tree import DecisionTreeClassifier\n",
    "from sklearn.ensemble import RandomForestClassifier\n",
    "from sklearn.ensemble import AdaBoostClassifier\n",
    "from sklearn.neural_network import MLPClassifier\n",
    "from sklearn.ensemble import GradientBoostingClassifier\n",
    "\n",
    "from sklearn.preprocessing import StandardScaler\n",
    "from sklearn.feature_extraction import DictVectorizer  #特征抽取 one-hot\n",
    "\n",
    "from sklearn.model_selection import ShuffleSplit\n",
    "\n",
    "import time"
   ]
  },
  {
   "cell_type": "markdown",
   "id": "eac0a3bf",
   "metadata": {},
   "source": [
    "### 数据分析"
   ]
  },
  {
   "cell_type": "code",
   "execution_count": 2,
   "id": "249266df",
   "metadata": {},
   "outputs": [],
   "source": [
    "train_data = pd.read_excel('data.xlsx',sheet_name='训练集', engine='openpyxl')  #读数据\n",
    "test_data = pd.read_excel('data_test.xlsx', engine='openpyxl')"
   ]
  },
  {
   "cell_type": "code",
   "execution_count": 3,
   "id": "6f5021ac",
   "metadata": {},
   "outputs": [
    {
     "data": {
      "text/plain": [
       "38"
      ]
     },
     "execution_count": 3,
     "metadata": {},
     "output_type": "execute_result"
    }
   ],
   "source": [
    "len(train_data['使用承运商'].value_counts().index)"
   ]
  },
  {
   "cell_type": "markdown",
   "id": "22c0e8a7",
   "metadata": {},
   "source": [
    "### 看品牌方和使用承运商之间是否有关系"
   ]
  },
  {
   "cell_type": "code",
   "execution_count": 4,
   "id": "178aaba3",
   "metadata": {
    "scrolled": true
   },
   "outputs": [
    {
     "name": "stderr",
     "output_type": "stream",
     "text": [
      "d:\\anaconda\\envs\\py36\\lib\\site-packages\\seaborn\\axisgrid.py:1667: UserWarning: The `size` parameter has been renamed to `height`; please update your code.\n",
      "  warnings.warn(msg, UserWarning)\n",
      "d:\\anaconda\\envs\\py36\\lib\\site-packages\\matplotlib\\backends\\backend_agg.py:238: RuntimeWarning: Glyph 21697 missing from current font.\n",
      "  font.set_text(s, 0.0, flags=flags)\n",
      "d:\\anaconda\\envs\\py36\\lib\\site-packages\\matplotlib\\backends\\backend_agg.py:238: RuntimeWarning: Glyph 29260 missing from current font.\n",
      "  font.set_text(s, 0.0, flags=flags)\n",
      "d:\\anaconda\\envs\\py36\\lib\\site-packages\\matplotlib\\backends\\backend_agg.py:238: RuntimeWarning: Glyph 26041 missing from current font.\n",
      "  font.set_text(s, 0.0, flags=flags)\n",
      "d:\\anaconda\\envs\\py36\\lib\\site-packages\\matplotlib\\backends\\backend_agg.py:238: RuntimeWarning: Glyph 20351 missing from current font.\n",
      "  font.set_text(s, 0.0, flags=flags)\n",
      "d:\\anaconda\\envs\\py36\\lib\\site-packages\\matplotlib\\backends\\backend_agg.py:238: RuntimeWarning: Glyph 29992 missing from current font.\n",
      "  font.set_text(s, 0.0, flags=flags)\n",
      "d:\\anaconda\\envs\\py36\\lib\\site-packages\\matplotlib\\backends\\backend_agg.py:238: RuntimeWarning: Glyph 25215 missing from current font.\n",
      "  font.set_text(s, 0.0, flags=flags)\n",
      "d:\\anaconda\\envs\\py36\\lib\\site-packages\\matplotlib\\backends\\backend_agg.py:238: RuntimeWarning: Glyph 36816 missing from current font.\n",
      "  font.set_text(s, 0.0, flags=flags)\n",
      "d:\\anaconda\\envs\\py36\\lib\\site-packages\\matplotlib\\backends\\backend_agg.py:238: RuntimeWarning: Glyph 21830 missing from current font.\n",
      "  font.set_text(s, 0.0, flags=flags)\n"
     ]
    },
    {
     "data": {
      "text/plain": [
       "<seaborn.axisgrid.JointGrid at 0x20b8f9dd6a0>"
      ]
     },
     "execution_count": 4,
     "metadata": {},
     "output_type": "execute_result"
    },
    {
     "name": "stderr",
     "output_type": "stream",
     "text": [
      "d:\\anaconda\\envs\\py36\\lib\\site-packages\\matplotlib\\backends\\backend_agg.py:238: RuntimeWarning: Glyph 21697 missing from current font.\n",
      "  font.set_text(s, 0.0, flags=flags)\n",
      "d:\\anaconda\\envs\\py36\\lib\\site-packages\\matplotlib\\backends\\backend_agg.py:238: RuntimeWarning: Glyph 29260 missing from current font.\n",
      "  font.set_text(s, 0.0, flags=flags)\n",
      "d:\\anaconda\\envs\\py36\\lib\\site-packages\\matplotlib\\backends\\backend_agg.py:238: RuntimeWarning: Glyph 26041 missing from current font.\n",
      "  font.set_text(s, 0.0, flags=flags)\n",
      "d:\\anaconda\\envs\\py36\\lib\\site-packages\\matplotlib\\backends\\backend_agg.py:238: RuntimeWarning: Glyph 20351 missing from current font.\n",
      "  font.set_text(s, 0.0, flags=flags)\n",
      "d:\\anaconda\\envs\\py36\\lib\\site-packages\\matplotlib\\backends\\backend_agg.py:238: RuntimeWarning: Glyph 29992 missing from current font.\n",
      "  font.set_text(s, 0.0, flags=flags)\n",
      "d:\\anaconda\\envs\\py36\\lib\\site-packages\\matplotlib\\backends\\backend_agg.py:238: RuntimeWarning: Glyph 25215 missing from current font.\n",
      "  font.set_text(s, 0.0, flags=flags)\n",
      "d:\\anaconda\\envs\\py36\\lib\\site-packages\\matplotlib\\backends\\backend_agg.py:238: RuntimeWarning: Glyph 36816 missing from current font.\n",
      "  font.set_text(s, 0.0, flags=flags)\n",
      "d:\\anaconda\\envs\\py36\\lib\\site-packages\\matplotlib\\backends\\backend_agg.py:238: RuntimeWarning: Glyph 21830 missing from current font.\n",
      "  font.set_text(s, 0.0, flags=flags)\n",
      "d:\\anaconda\\envs\\py36\\lib\\site-packages\\matplotlib\\backends\\backend_agg.py:201: RuntimeWarning: Glyph 21697 missing from current font.\n",
      "  font.set_text(s, 0, flags=flags)\n",
      "d:\\anaconda\\envs\\py36\\lib\\site-packages\\matplotlib\\backends\\backend_agg.py:201: RuntimeWarning: Glyph 29260 missing from current font.\n",
      "  font.set_text(s, 0, flags=flags)\n",
      "d:\\anaconda\\envs\\py36\\lib\\site-packages\\matplotlib\\backends\\backend_agg.py:201: RuntimeWarning: Glyph 26041 missing from current font.\n",
      "  font.set_text(s, 0, flags=flags)\n",
      "d:\\anaconda\\envs\\py36\\lib\\site-packages\\matplotlib\\backends\\backend_agg.py:201: RuntimeWarning: Glyph 20351 missing from current font.\n",
      "  font.set_text(s, 0, flags=flags)\n",
      "d:\\anaconda\\envs\\py36\\lib\\site-packages\\matplotlib\\backends\\backend_agg.py:201: RuntimeWarning: Glyph 29992 missing from current font.\n",
      "  font.set_text(s, 0, flags=flags)\n",
      "d:\\anaconda\\envs\\py36\\lib\\site-packages\\matplotlib\\backends\\backend_agg.py:201: RuntimeWarning: Glyph 25215 missing from current font.\n",
      "  font.set_text(s, 0, flags=flags)\n",
      "d:\\anaconda\\envs\\py36\\lib\\site-packages\\matplotlib\\backends\\backend_agg.py:201: RuntimeWarning: Glyph 36816 missing from current font.\n",
      "  font.set_text(s, 0, flags=flags)\n",
      "d:\\anaconda\\envs\\py36\\lib\\site-packages\\matplotlib\\backends\\backend_agg.py:201: RuntimeWarning: Glyph 21830 missing from current font.\n",
      "  font.set_text(s, 0, flags=flags)\n"
     ]
    },
    {
     "data": {
      "image/png": "[encoded data removed]",
      "text/plain": [
       "<Figure size 576x576 with 3 Axes>"
      ]
     },
     "metadata": {
      "needs_background": "light"
     },
     "output_type": "display_data"
    }
   ],
   "source": [
    "g = sns.JointGrid(data=train_data, x=train_data['品牌方'], y=train_data['使用承运商'],marginal_ticks=True, size=8)\n",
    "g.plot_joint(sns.scatterplot)\n",
    "g.plot_marginals(sns.histplot, bins=30)\n",
    "#plt.savefig('D:/python/jupyter/美的/2021.11.19/T1室内温度和设定温度.jpg')"
   ]
  },
  {
   "cell_type": "markdown",
   "id": "ccf7e1ea",
   "metadata": {},
   "source": [
    "### 看品牌方和仓库编码之间是否有关系"
   ]
  },
  {
   "cell_type": "code",
   "execution_count": 5,
   "id": "9d7c473d",
   "metadata": {
    "scrolled": true
   },
   "outputs": [
    {
     "name": "stderr",
     "output_type": "stream",
     "text": [
      "d:\\anaconda\\envs\\py36\\lib\\site-packages\\seaborn\\axisgrid.py:1667: UserWarning: The `size` parameter has been renamed to `height`; please update your code.\n",
      "  warnings.warn(msg, UserWarning)\n",
      "d:\\anaconda\\envs\\py36\\lib\\site-packages\\matplotlib\\backends\\backend_agg.py:238: RuntimeWarning: Glyph 21697 missing from current font.\n",
      "  font.set_text(s, 0.0, flags=flags)\n",
      "d:\\anaconda\\envs\\py36\\lib\\site-packages\\matplotlib\\backends\\backend_agg.py:238: RuntimeWarning: Glyph 29260 missing from current font.\n",
      "  font.set_text(s, 0.0, flags=flags)\n",
      "d:\\anaconda\\envs\\py36\\lib\\site-packages\\matplotlib\\backends\\backend_agg.py:238: RuntimeWarning: Glyph 26041 missing from current font.\n",
      "  font.set_text(s, 0.0, flags=flags)\n",
      "d:\\anaconda\\envs\\py36\\lib\\site-packages\\matplotlib\\backends\\backend_agg.py:238: RuntimeWarning: Glyph 20179 missing from current font.\n",
      "  font.set_text(s, 0.0, flags=flags)\n",
      "d:\\anaconda\\envs\\py36\\lib\\site-packages\\matplotlib\\backends\\backend_agg.py:238: RuntimeWarning: Glyph 24211 missing from current font.\n",
      "  font.set_text(s, 0.0, flags=flags)\n",
      "d:\\anaconda\\envs\\py36\\lib\\site-packages\\matplotlib\\backends\\backend_agg.py:238: RuntimeWarning: Glyph 32534 missing from current font.\n",
      "  font.set_text(s, 0.0, flags=flags)\n",
      "d:\\anaconda\\envs\\py36\\lib\\site-packages\\matplotlib\\backends\\backend_agg.py:238: RuntimeWarning: Glyph 30721 missing from current font.\n",
      "  font.set_text(s, 0.0, flags=flags)\n"
     ]
    },
    {
     "data": {
      "text/plain": [
       "<seaborn.axisgrid.JointGrid at 0x20b8efd6470>"
      ]
     },
     "execution_count": 5,
     "metadata": {},
     "output_type": "execute_result"
    },
    {
     "name": "stderr",
     "output_type": "stream",
     "text": [
      "d:\\anaconda\\envs\\py36\\lib\\site-packages\\matplotlib\\backends\\backend_agg.py:238: RuntimeWarning: Glyph 21697 missing from current font.\n",
      "  font.set_text(s, 0.0, flags=flags)\n",
      "d:\\anaconda\\envs\\py36\\lib\\site-packages\\matplotlib\\backends\\backend_agg.py:238: RuntimeWarning: Glyph 29260 missing from current font.\n",
      "  font.set_text(s, 0.0, flags=flags)\n",
      "d:\\anaconda\\envs\\py36\\lib\\site-packages\\matplotlib\\backends\\backend_agg.py:238: RuntimeWarning: Glyph 26041 missing from current font.\n",
      "  font.set_text(s, 0.0, flags=flags)\n",
      "d:\\anaconda\\envs\\py36\\lib\\site-packages\\matplotlib\\backends\\backend_agg.py:238: RuntimeWarning: Glyph 20179 missing from current font.\n",
      "  font.set_text(s, 0.0, flags=flags)\n",
      "d:\\anaconda\\envs\\py36\\lib\\site-packages\\matplotlib\\backends\\backend_agg.py:238: RuntimeWarning: Glyph 24211 missing from current font.\n",
      "  font.set_text(s, 0.0, flags=flags)\n",
      "d:\\anaconda\\envs\\py36\\lib\\site-packages\\matplotlib\\backends\\backend_agg.py:238: RuntimeWarning: Glyph 32534 missing from current font.\n",
      "  font.set_text(s, 0.0, flags=flags)\n",
      "d:\\anaconda\\envs\\py36\\lib\\site-packages\\matplotlib\\backends\\backend_agg.py:238: RuntimeWarning: Glyph 30721 missing from current font.\n",
      "  font.set_text(s, 0.0, flags=flags)\n",
      "d:\\anaconda\\envs\\py36\\lib\\site-packages\\matplotlib\\backends\\backend_agg.py:201: RuntimeWarning: Glyph 21697 missing from current font.\n",
      "  font.set_text(s, 0, flags=flags)\n",
      "d:\\anaconda\\envs\\py36\\lib\\site-packages\\matplotlib\\backends\\backend_agg.py:201: RuntimeWarning: Glyph 29260 missing from current font.\n",
      "  font.set_text(s, 0, flags=flags)\n",
      "d:\\anaconda\\envs\\py36\\lib\\site-packages\\matplotlib\\backends\\backend_agg.py:201: RuntimeWarning: Glyph 26041 missing from current font.\n",
      "  font.set_text(s, 0, flags=flags)\n",
      "d:\\anaconda\\envs\\py36\\lib\\site-packages\\matplotlib\\backends\\backend_agg.py:201: RuntimeWarning: Glyph 20179 missing from current font.\n",
      "  font.set_text(s, 0, flags=flags)\n",
      "d:\\anaconda\\envs\\py36\\lib\\site-packages\\matplotlib\\backends\\backend_agg.py:201: RuntimeWarning: Glyph 24211 missing from current font.\n",
      "  font.set_text(s, 0, flags=flags)\n",
      "d:\\anaconda\\envs\\py36\\lib\\site-packages\\matplotlib\\backends\\backend_agg.py:201: RuntimeWarning: Glyph 32534 missing from current font.\n",
      "  font.set_text(s, 0, flags=flags)\n",
      "d:\\anaconda\\envs\\py36\\lib\\site-packages\\matplotlib\\backends\\backend_agg.py:201: RuntimeWarning: Glyph 30721 missing from current font.\n",
      "  font.set_text(s, 0, flags=flags)\n"
     ]
    },
    {
     "data": {
      "image/png": "[encoded data removed]",
      "text/plain": [
       "<Figure size 576x576 with 3 Axes>"
      ]
     },
     "metadata": {
      "needs_background": "light"
     },
     "output_type": "display_data"
    }
   ],
   "source": [
    "g = sns.JointGrid(data=train_data, x=train_data['品牌方'], y=train_data['仓库编码'],marginal_ticks=True, size=8)\n",
    "g.plot_joint(sns.scatterplot)\n",
    "g.plot_marginals(sns.histplot, bins=30)"
   ]
  },
  {
   "cell_type": "markdown",
   "id": "9f695eaa",
   "metadata": {},
   "source": [
    "### 看拣货区域和使用承运商之间是否有关系"
   ]
  },
  {
   "cell_type": "code",
   "execution_count": 6,
   "id": "53a75f13",
   "metadata": {
    "scrolled": true
   },
   "outputs": [
    {
     "name": "stderr",
     "output_type": "stream",
     "text": [
      "d:\\anaconda\\envs\\py36\\lib\\site-packages\\seaborn\\axisgrid.py:1667: UserWarning: The `size` parameter has been renamed to `height`; please update your code.\n",
      "  warnings.warn(msg, UserWarning)\n",
      "d:\\anaconda\\envs\\py36\\lib\\site-packages\\matplotlib\\backends\\backend_agg.py:238: RuntimeWarning: Glyph 25315 missing from current font.\n",
      "  font.set_text(s, 0.0, flags=flags)\n",
      "d:\\anaconda\\envs\\py36\\lib\\site-packages\\matplotlib\\backends\\backend_agg.py:238: RuntimeWarning: Glyph 36135 missing from current font.\n",
      "  font.set_text(s, 0.0, flags=flags)\n",
      "d:\\anaconda\\envs\\py36\\lib\\site-packages\\matplotlib\\backends\\backend_agg.py:238: RuntimeWarning: Glyph 21306 missing from current font.\n",
      "  font.set_text(s, 0.0, flags=flags)\n",
      "d:\\anaconda\\envs\\py36\\lib\\site-packages\\matplotlib\\backends\\backend_agg.py:238: RuntimeWarning: Glyph 22495 missing from current font.\n",
      "  font.set_text(s, 0.0, flags=flags)\n",
      "d:\\anaconda\\envs\\py36\\lib\\site-packages\\matplotlib\\backends\\backend_agg.py:238: RuntimeWarning: Glyph 20351 missing from current font.\n",
      "  font.set_text(s, 0.0, flags=flags)\n",
      "d:\\anaconda\\envs\\py36\\lib\\site-packages\\matplotlib\\backends\\backend_agg.py:238: RuntimeWarning: Glyph 29992 missing from current font.\n",
      "  font.set_text(s, 0.0, flags=flags)\n",
      "d:\\anaconda\\envs\\py36\\lib\\site-packages\\matplotlib\\backends\\backend_agg.py:238: RuntimeWarning: Glyph 25215 missing from current font.\n",
      "  font.set_text(s, 0.0, flags=flags)\n",
      "d:\\anaconda\\envs\\py36\\lib\\site-packages\\matplotlib\\backends\\backend_agg.py:238: RuntimeWarning: Glyph 36816 missing from current font.\n",
      "  font.set_text(s, 0.0, flags=flags)\n",
      "d:\\anaconda\\envs\\py36\\lib\\site-packages\\matplotlib\\backends\\backend_agg.py:238: RuntimeWarning: Glyph 21830 missing from current font.\n",
      "  font.set_text(s, 0.0, flags=flags)\n"
     ]
    },
    {
     "data": {
      "text/plain": [
       "<seaborn.axisgrid.JointGrid at 0x20b8f571240>"
      ]
     },
     "execution_count": 6,
     "metadata": {},
     "output_type": "execute_result"
    },
    {
     "name": "stderr",
     "output_type": "stream",
     "text": [
      "d:\\anaconda\\envs\\py36\\lib\\site-packages\\matplotlib\\backends\\backend_agg.py:238: RuntimeWarning: Glyph 25315 missing from current font.\n",
      "  font.set_text(s, 0.0, flags=flags)\n",
      "d:\\anaconda\\envs\\py36\\lib\\site-packages\\matplotlib\\backends\\backend_agg.py:238: RuntimeWarning: Glyph 36135 missing from current font.\n",
      "  font.set_text(s, 0.0, flags=flags)\n",
      "d:\\anaconda\\envs\\py36\\lib\\site-packages\\matplotlib\\backends\\backend_agg.py:238: RuntimeWarning: Glyph 21306 missing from current font.\n",
      "  font.set_text(s, 0.0, flags=flags)\n",
      "d:\\anaconda\\envs\\py36\\lib\\site-packages\\matplotlib\\backends\\backend_agg.py:238: RuntimeWarning: Glyph 22495 missing from current font.\n",
      "  font.set_text(s, 0.0, flags=flags)\n",
      "d:\\anaconda\\envs\\py36\\lib\\site-packages\\matplotlib\\backends\\backend_agg.py:238: RuntimeWarning: Glyph 20351 missing from current font.\n",
      "  font.set_text(s, 0.0, flags=flags)\n",
      "d:\\anaconda\\envs\\py36\\lib\\site-packages\\matplotlib\\backends\\backend_agg.py:238: RuntimeWarning: Glyph 29992 missing from current font.\n",
      "  font.set_text(s, 0.0, flags=flags)\n",
      "d:\\anaconda\\envs\\py36\\lib\\site-packages\\matplotlib\\backends\\backend_agg.py:238: RuntimeWarning: Glyph 25215 missing from current font.\n",
      "  font.set_text(s, 0.0, flags=flags)\n",
      "d:\\anaconda\\envs\\py36\\lib\\site-packages\\matplotlib\\backends\\backend_agg.py:238: RuntimeWarning: Glyph 36816 missing from current font.\n",
      "  font.set_text(s, 0.0, flags=flags)\n",
      "d:\\anaconda\\envs\\py36\\lib\\site-packages\\matplotlib\\backends\\backend_agg.py:238: RuntimeWarning: Glyph 21830 missing from current font.\n",
      "  font.set_text(s, 0.0, flags=flags)\n",
      "d:\\anaconda\\envs\\py36\\lib\\site-packages\\matplotlib\\backends\\backend_agg.py:201: RuntimeWarning: Glyph 25315 missing from current font.\n",
      "  font.set_text(s, 0, flags=flags)\n",
      "d:\\anaconda\\envs\\py36\\lib\\site-packages\\matplotlib\\backends\\backend_agg.py:201: RuntimeWarning: Glyph 36135 missing from current font.\n",
      "  font.set_text(s, 0, flags=flags)\n",
      "d:\\anaconda\\envs\\py36\\lib\\site-packages\\matplotlib\\backends\\backend_agg.py:201: RuntimeWarning: Glyph 21306 missing from current font.\n",
      "  font.set_text(s, 0, flags=flags)\n",
      "d:\\anaconda\\envs\\py36\\lib\\site-packages\\matplotlib\\backends\\backend_agg.py:201: RuntimeWarning: Glyph 22495 missing from current font.\n",
      "  font.set_text(s, 0, flags=flags)\n",
      "d:\\anaconda\\envs\\py36\\lib\\site-packages\\matplotlib\\backends\\backend_agg.py:201: RuntimeWarning: Glyph 20351 missing from current font.\n",
      "  font.set_text(s, 0, flags=flags)\n",
      "d:\\anaconda\\envs\\py36\\lib\\site-packages\\matplotlib\\backends\\backend_agg.py:201: RuntimeWarning: Glyph 29992 missing from current font.\n",
      "  font.set_text(s, 0, flags=flags)\n",
      "d:\\anaconda\\envs\\py36\\lib\\site-packages\\matplotlib\\backends\\backend_agg.py:201: RuntimeWarning: Glyph 25215 missing from current font.\n",
      "  font.set_text(s, 0, flags=flags)\n",
      "d:\\anaconda\\envs\\py36\\lib\\site-packages\\matplotlib\\backends\\backend_agg.py:201: RuntimeWarning: Glyph 36816 missing from current font.\n",
      "  font.set_text(s, 0, flags=flags)\n",
      "d:\\anaconda\\envs\\py36\\lib\\site-packages\\matplotlib\\backends\\backend_agg.py:201: RuntimeWarning: Glyph 21830 missing from current font.\n",
      "  font.set_text(s, 0, flags=flags)\n"
     ]
    },
    {
     "data": {
      "image/png": "[encoded data removed]",
      "text/plain": [
       "<Figure size 576x576 with 3 Axes>"
      ]
     },
     "metadata": {
      "needs_background": "light"
     },
     "output_type": "display_data"
    }
   ],
   "source": [
    "g = sns.JointGrid(data=train_data, x=train_data['拣货区域'], y=train_data['使用承运商'],marginal_ticks=True, size=8)\n",
    "g.plot_joint(sns.scatterplot)\n",
    "g.plot_marginals(sns.histplot, bins=30)"
   ]
  },
  {
   "cell_type": "markdown",
   "id": "389fc9c3",
   "metadata": {},
   "source": [
    "拣货区域是对仓库和商店更详细地址的分类，理论上一个大区域的商品可能会有同一个承运商承包（原理是商品是同一种类），\n",
    "但是因为有商品种类列，所以本次建模时没有考虑这个特征"
   ]
  },
  {
   "cell_type": "markdown",
   "id": "bc097d6c",
   "metadata": {},
   "source": [
    "考虑过时间序列的问题，因为不同的时间，公司选的承运商可能不同\n",
    "但是在本题中，时间变化范围小，不足以影响，就删去了"
   ]
  },
  {
   "cell_type": "code",
   "execution_count": null,
   "id": "810eb740",
   "metadata": {},
   "outputs": [],
   "source": []
  },
  {
   "cell_type": "markdown",
   "id": "efe205de",
   "metadata": {},
   "source": [
    "### 预处理"
   ]
  },
  {
   "cell_type": "code",
   "execution_count": 8,
   "id": "cee1f110",
   "metadata": {},
   "outputs": [],
   "source": [
    "#统一收货省和收货市\n",
    "province = [['安徽','安徽省'],['北京市','北京'],['福建','福建省'],['广东','广东省'],['广西','广西壮族自治区'],['广西省','广西壮族自治区'],\n",
    "            ['贵州','贵州省'],['河北','河北省'],['河南','河南省'],['黑龙','黑龙江省'],['湖北','湖北省'],['湖南','湖南省'],\n",
    "            ['江苏','江苏省'],['江西','江西省'],['辽宁','辽宁省'],['山东','山东省'],['陕西','陕西省'],['上海市','上海'],\n",
    "            ['浙江','浙江省'],['重庆市','重庆']\n",
    "           ]\n",
    "\n",
    "city = [['保定','保定市'],['北京','北京市'],['大连','大连市'],['东莞','东莞市'],['福州','福州市'],['阜阳','阜阳市'],\n",
    "        ['广州','广州市'],['贵阳','贵阳市'],['桂林','桂林市'],['哈尔滨','哈尔滨市'],['哈密','哈密市'],['杭州','杭州市'],\n",
    "        ['合肥','合肥市'],['葫芦岛','葫芦岛市'],['湖州','湖州市'],['济南','济南市'],['江门','江门市'],['锦州','锦州市'],\n",
    "        ['九江','九江市'],['临沂','临沂市'],['洛阳','洛阳市'],['马鞍山','马鞍山市'],['武汉','武汉市'],['西安','西安市'],\n",
    "        ['绍兴','绍兴市'],['省直辖','省直辖县级行政区划'],['石家庄','石家庄市'],['北京','北京市'],['上海','上海市'],['天津','天津市'],\n",
    "        ['台州','台州市'],['那曲','那曲市'],['南通','南通市'],['莆田','莆田市'],['濮阳','濮阳市'],['秦皇岛','秦皇岛市'],\n",
    "        ['青岛','青岛市'],['泉州','泉州市'],['厦门','厦门市'],['淄博','淄博市'],['郑州','郑州市'],['长沙','长沙市'],\n",
    "        ['榆林','榆林市'],['宣城','宣城市'],['徐州','徐州市'],['邢台','邢台市'],['咸阳','咸阳市'],['新乡','新乡市'],\n",
    "       ]"
   ]
  },
  {
   "cell_type": "code",
   "execution_count": null,
   "id": "f10f6533",
   "metadata": {},
   "outputs": [],
   "source": []
  },
  {
   "cell_type": "code",
   "execution_count": 4,
   "id": "fd73c98a",
   "metadata": {},
   "outputs": [],
   "source": [
    "# def preprocess(dt,dt1,):  #预处理函数1：传进去训练集、测试集，未做one-hot编码\n",
    "#     for j in province:\n",
    "#         dt.loc[dt['收货省'] == j[0], '收货省'] = j[1]\n",
    "#         dt1.loc[dt1['收货省'] == j[0], '收货省'] = j[1]   #收货省统一标准\n",
    "#     for i in city:\n",
    "#         dt.loc[dt['收货市'] == j[0], '收货省'] = j[1]   #收货市统一标准\n",
    "#         dt1.loc[dt1['收货市'] == j[0], '收货省'] = j[1]\n",
    "#     dt = dt.drop(['订单号','创建时间','商品编码(数量)','拣货区域','收货省','收货区'], axis=1)  #删一些特征\n",
    "#     dt1 = dt1.drop(['订单号','创建时间','商品编码(数量)','拣货区域','收货省','收货区'], axis=1)\n",
    "#     dt = dt.reset_index(drop=True)\n",
    "#     dt1 = dt.reset_index(drop=True)\n",
    "    \n",
    "#     dt['品牌方'] = dt['品牌方'].astype('int')        #转换类型\n",
    "#     dt['订单内商品总数量'] = dt['订单内商品总数量'].astype('int')\n",
    "#     dt['订单内商品总种类'] = dt['订单内商品总种类'].astype('int')\n",
    "#     dt['理论体积'] = dt['理论体积'].astype('float')\n",
    "#     dt['理论重量'] = dt['理论重量'].astype('float')\n",
    "#     #dt['使用承运商'] = dt['使用承运商'].astype('int')\n",
    "    \n",
    "#     dt1['品牌方'] = dt1['品牌方'].astype('int')\n",
    "#     dt1['订单内商品总数量'] = dt1['订单内商品总数量'].astype('int')\n",
    "#     dt1['订单内商品总种类'] = dt1['订单内商品总种类'].astype('int')\n",
    "#     dt1['理论体积'] = dt1['理论体积'].astype('float')\n",
    "#     dt1['理论重量'] = dt1['理论重量'].astype('float')\n",
    "#     #dt1['使用承运商'] = dt1['使用承运商'].astype('int')\n",
    "    \n",
    "#     dt = dt.dropna(axis=0, how='any')  #带零的样本全部删去\n",
    "#     dt1 = dt1.dropna(axis=0, how='any')\n",
    "\n",
    "#     return dt, dt1"
   ]
  },
  {
   "cell_type": "code",
   "execution_count": 5,
   "id": "64c5bd4e",
   "metadata": {},
   "outputs": [],
   "source": [
    "# a,b =  preprocess(train_data, test_data)"
   ]
  },
  {
   "cell_type": "code",
   "execution_count": 6,
   "id": "06da76c0",
   "metadata": {},
   "outputs": [],
   "source": [
    "# def process(dt, dt1): #预处理函数2：传进去训练集、测试集，每次打乱数据集，做one-hot编码\n",
    "#     dt = sklearn.utils.shuffle(dt) #随机打乱\n",
    "#     y_train = dt['使用承运商']\n",
    "#     y_test = dt1['使用承运商']\n",
    "#     dt = dt.drop(['使用承运商'], axis=1)\n",
    "#     dt1 = dt1.drop(['使用承运商'], axis=1)\n",
    "    \n",
    "#     dict = DictVectorizer(sparse=False)\n",
    "#     dt = dict.fit_transform(dt.to_dict(orient=\"records\"))\n",
    "#     dt1 = dict.transform(dt1.to_dict(orient=\"records\"))\n",
    "    \n",
    "#      # 特征工程（标准化）\n",
    "#     std = StandardScaler()\n",
    "    \n",
    "#     # 对测试集和训练集的特征值进行标准化\n",
    "#     dt = std.fit_transform(dt)\n",
    "#     dt1 = std.transform(dt1)\n",
    "    \n",
    "#     return dt,dt1,y_train,y_test "
   ]
  },
  {
   "cell_type": "code",
   "execution_count": 9,
   "id": "87f1e7ae",
   "metadata": {},
   "outputs": [],
   "source": [
    "#重量与体积列为1和0.001时（或对应倍数），则为该商品无重量体积数据\n",
    "#将这种数据置零\n",
    "def weight_volume(data):\n",
    "    p = data[data['理论重量']%1==0]\n",
    "    pp = p[p['理论体积']%0.001==0]\n",
    "    pp =  pp[pp['理论体积']*1000 == pp['理论重量']]\n",
    "    data.loc[pp.index,'理论重量'] = 0\n",
    "    data.loc[pp.index,'理论体积'] = 0\n",
    "    return data"
   ]
  },
  {
   "cell_type": "code",
   "execution_count": 10,
   "id": "f41d4ca7",
   "metadata": {},
   "outputs": [],
   "source": [
    "def preprocess1(dt, dt1): #重写预处理函数：传进去训练集、测试集，不随机打乱数据，添加收货区\n",
    "    dt = dt.drop(['订单号','创建时间','商品编码(数量)','拣货区域','收货省','收货区'], axis=1)  #删一些特征\n",
    "    dt1 = dt1.drop(['订单号','创建时间','商品编码(数量)','拣货区域','收货省','收货区'], axis=1)\n",
    "    \n",
    "    dt = dt.dropna(axis=0, how='any')  #带零的样本全部删去\n",
    "    #dt1 = dt1.dropna(axis=0, how='any')\n",
    "    \n",
    "#     for j in province:\n",
    "#         dt.loc[dt['收货省'] == j[0], '收货省'] = j[1]  #收货省统一标准\n",
    "#         dt1.loc[dt1['收货省'] == j[0], '收货省'] = j[1]   \n",
    "    for i in city:\n",
    "        dt.loc[dt['收货市'] == i[0], '收货市'] = i[1]   #收货市统一标准\n",
    "        dt1.loc[dt1['收货市'] == i[0], '收货市'] = i[1]\n",
    "    \n",
    "    dt = weight_volume(dt)\n",
    "    dt1 = weight_volume(dt1)\n",
    "    \n",
    "    dt['品牌方'] = dt['品牌方'].astype('int')        #转换类型\n",
    "    dt['订单内商品总数量'] = dt['订单内商品总数量'].astype('int')\n",
    "    dt['订单内商品总种类'] = dt['订单内商品总种类'].astype('int')\n",
    "    dt['理论体积'] = dt['理论体积'].astype('float')\n",
    "    dt['理论重量'] = dt['理论重量'].astype('float')\n",
    "    \n",
    "    dt1['品牌方'] = dt1['品牌方'].astype('int')\n",
    "    dt1['订单内商品总数量'] = dt1['订单内商品总数量'].astype('int')\n",
    "    dt1['订单内商品总种类'] = dt1['订单内商品总种类'].astype('int')\n",
    "    dt1['理论体积'] = dt1['理论体积'].astype('float')\n",
    "    dt1['理论重量'] = dt1['理论重量'].astype('float')\n",
    "\n",
    "    dt = dt.reset_index(drop=True)\n",
    "    dt1 = dt1.reset_index(drop=True)\n",
    "    \n",
    "    y_train = dt['使用承运商']     #拿到label\n",
    "    y_test = dt1['使用承运商']\n",
    "    dt = dt.drop(['使用承运商'], axis=1)  #删去label\n",
    "    dt1 = dt1.drop(['使用承运商'], axis=1)\n",
    "    \n",
    "    dict = DictVectorizer(sparse=False)  #one-hot编码\n",
    "    dt = dict.fit_transform(dt.to_dict(orient=\"records\"))\n",
    "    dt1 = dict.transform(dt1.to_dict(orient=\"records\"))\n",
    "    \n",
    "    std = StandardScaler()       # 测试集和训练集的特征值进行标准化\n",
    "    dt = std.fit_transform(dt)\n",
    "    dt1 = std.transform(dt1)\n",
    "    \n",
    "    return dt,dt1,y_train,y_test "
   ]
  },
  {
   "cell_type": "code",
   "execution_count": null,
   "id": "90b89381",
   "metadata": {},
   "outputs": [],
   "source": []
  },
  {
   "cell_type": "markdown",
   "id": "03fb746d",
   "metadata": {},
   "source": [
    "### 决策树、随机森林、SVM训练"
   ]
  },
  {
   "cell_type": "code",
   "execution_count": 11,
   "id": "53c27f5b",
   "metadata": {
    "scrolled": true
   },
   "outputs": [
    {
     "name": "stdout",
     "output_type": "stream",
     "text": [
      "预测的准确率： 0.9456313653419098\n"
     ]
    }
   ],
   "source": [
    "dec_acc = []\n",
    "dec = DecisionTreeClassifier()\n",
    "\n",
    "x_train, x_test, y_train, y_test = preprocess1(train_data, test_data)\n",
    "#决策树可调超参数 树的高度#决策树可调超参数 树的高度\n",
    "dec.fit(x_train, y_train)\n",
    "y_predict = dec.predict(x_test)\n",
    "# 预测准确率\n",
    "print(\"预测的准确率：\", dec.score(x_test, y_test))"
   ]
  },
  {
   "cell_type": "code",
   "execution_count": 146,
   "id": "b93f4996",
   "metadata": {},
   "outputs": [
    {
     "name": "stdout",
     "output_type": "stream",
     "text": [
      "准确率： 0.9503407611608852\n"
     ]
    }
   ],
   "source": [
    "rf_acc = []\n",
    "rf = RandomForestClassifier()\n",
    "x_train, x_test, y_train, y_test = preprocess1(train_data, test_data)\n",
    "rf.fit(x_train, y_train)\n",
    "y_predict = rf.predict(x_test)\n",
    "print(\"准确率：\", rf.score(x_test, y_test))"
   ]
  },
  {
   "cell_type": "code",
   "execution_count": 14,
   "id": "67d296a8",
   "metadata": {},
   "outputs": [
    {
     "data": {
      "text/plain": [
       "array([1500000531, 1500000531, 1500000531, ..., 1500108628, 1500108628,\n",
       "       1500108628], dtype=int64)"
      ]
     },
     "execution_count": 14,
     "metadata": {},
     "output_type": "execute_result"
    }
   ],
   "source": [
    "y_predict"
   ]
  },
  {
   "cell_type": "code",
   "execution_count": 139,
   "id": "e9e61cc8",
   "metadata": {},
   "outputs": [
    {
     "name": "stdout",
     "output_type": "stream",
     "text": [
      "准确率： 0.9492304158051919\n"
     ]
    }
   ],
   "source": [
    "svm_acc = []\n",
    "\n",
    "svc = SVC()\n",
    "x_train, x_test, y_train, y_test = preprocess1(train_data, test_data)\n",
    "svc.fit(x_train, y_train)\n",
    "y_predict = svc.predict(x_test)\n",
    "print(\"准确率：\", rf.score(x_test, y_test))"
   ]
  },
  {
   "cell_type": "code",
   "execution_count": 138,
   "id": "5440cf21",
   "metadata": {},
   "outputs": [
    {
     "name": "stdout",
     "output_type": "stream",
     "text": [
      "[0.31614212420552873]\n",
      "0.31614212420552873\n"
     ]
    }
   ],
   "source": [
    "ada_acc = []\n",
    "k=200\n",
    "\n",
    "### Tree numbers can be modified\n",
    "x_train, x_test, y_train, y_test = preprocess1(train_data, test_data)\n",
    "clf = AdaBoostClassifier(n_estimators=k,learning_rate=0.8)\n",
    "clf.fit(x_train, y_train)\n",
    "ada_acc.append(clf.score(x_test,y_test))   \n",
    "#y_pred=clf.predict(x_test)\n",
    "\n",
    "print(ada_acc)\n",
    "print(np.mean(ada_acc))"
   ]
  },
  {
   "cell_type": "code",
   "execution_count": 137,
   "id": "b202a64b",
   "metadata": {},
   "outputs": [
    {
     "name": "stderr",
     "output_type": "stream",
     "text": [
      "d:\\anaconda\\envs\\py36\\lib\\site-packages\\sklearn\\neural_network\\_multilayer_perceptron.py:617: ConvergenceWarning: Stochastic Optimizer: Maximum iterations (200) reached and the optimization hasn't converged yet.\n",
      "  % self.max_iter, ConvergenceWarning)\n"
     ]
    },
    {
     "name": "stdout",
     "output_type": "stream",
     "text": [
      "[0.9558924879393522, 0.9570411210659315, 0.9587640707558006, 0.9571942721494755, 0.9567731066697297]\n",
      "0.9571330117160579\n"
     ]
    }
   ],
   "source": [
    "ann_acc = []\n",
    "for k in range(10,15):\n",
    "    ### Hidden layer numbers are confirmed(because we use MLP Classifier) ,\n",
    "    ### but the parameter numbers on each layer can be modified.\n",
    "    x_train, x_test, y_train, y_test = preprocess1(train_data, test_data)\n",
    "    ANN=MLPClassifier(hidden_layer_sizes=[k], activation='relu', solver='adam')\n",
    "    ANN.fit(x_train, y_train)\n",
    "    ann_acc.append(ANN.score(x_test,y_test))   \n",
    "    #y_pred=ANN.predict(x_test)\n",
    "print(ann_acc)\n",
    "print(np.mean(ann_acc))"
   ]
  },
  {
   "cell_type": "code",
   "execution_count": 140,
   "id": "0a1a049b",
   "metadata": {},
   "outputs": [
    {
     "name": "stdout",
     "output_type": "stream",
     "text": [
      "0.9577685887127652\n"
     ]
    }
   ],
   "source": [
    "x_train, x_test, y_train, y_test = preprocess1(train_data, test_data)\n",
    "ANN=MLPClassifier(hidden_layer_sizes=[12], activation='relu', solver='adam')\n",
    "ANN.fit(x_train, y_train)\n",
    "print(ANN.score(x_test,y_test))"
   ]
  },
  {
   "cell_type": "code",
   "execution_count": 135,
   "id": "63a18936",
   "metadata": {},
   "outputs": [
    {
     "name": "stdout",
     "output_type": "stream",
     "text": [
      "0.8811547591699211\n"
     ]
    }
   ],
   "source": [
    "knn_acc = []\n",
    "\n",
    "### The parameter k can be modified\n",
    "x_train, x_test, y_train, y_test = preprocess1(train_data, test_data)\n",
    "knn_classifier=KNeighborsClassifier()\n",
    "knn_classifier.fit(x_train,y_train)\n",
    "print(knn_classifier.score(x_test,y_test))"
   ]
  },
  {
   "cell_type": "code",
   "execution_count": 136,
   "id": "0f42d5eb",
   "metadata": {},
   "outputs": [
    {
     "name": "stdout",
     "output_type": "stream",
     "text": [
      "0.8435561681598898\n"
     ]
    }
   ],
   "source": [
    "###The tree numbers and depth can be modified\n",
    "x_train, x_test, y_train, y_test = preprocess1(train_data, test_data)\n",
    "GBM=GradientBoostingClassifier()\n",
    "GBM.fit(x_train,y_train)\n",
    "print(GBM.score(x_test,y_test))"
   ]
  },
  {
   "cell_type": "code",
   "execution_count": null,
   "id": "fdfd7f12",
   "metadata": {},
   "outputs": [],
   "source": []
  },
  {
   "cell_type": "markdown",
   "id": "3db9f63e",
   "metadata": {},
   "source": [
    "### 准确率可视化"
   ]
  },
  {
   "cell_type": "code",
   "execution_count": 8,
   "id": "29e5bab6",
   "metadata": {},
   "outputs": [],
   "source": [
    "dec_acc = [0.9739335631401348, 0.9739335631401348, 0.9739335631401348, 0.9739335631401348, 0.9739335631401348, 0.9739335631401348, 0.9739335631401348, 0.9739335631401348, 0.9739335631401348, 0.9739335631401348]\n",
    "rf_acc = [0.973930258152578, 0.973930258152578, 0.9739236481774646, 0.9739203431899079, 0.9739269531650213, 0.9739335631401348, 0.973930258152578, 0.9739236481774646, 0.973930258152578, 0.973930258152578]\n",
    "svm_acc = [0.9513109233143737]\n",
    "ada_acc = [0.6985487799638435, 0.6985487799638435, 0.6985487799638435, 0.6985487799638435, 0.6985487799638435, 0.6985487799638435, 0.6985487799638435, 0.6985487799638435, 0.6985487799638435, 0.6985487799638435]\n",
    "ann_acc = [0.959173488711815, 0.9605748034358651, 0.9603533692695647, 0.9595271223803843, 0.9607830176519385]\n",
    "knn_acc = [0.952424704120989, 0.9536442445294193, 0.9536310245791925, 0.9537863589943584, 0.9532013761968187, 0.9526758831752998, 0.9540771978993499, 0.9529270622296107, 0.9536971243303269]\n",
    "gbm_acc = [0.9079098267195024]"
   ]
  },
  {
   "cell_type": "code",
   "execution_count": 10,
   "id": "c92fc569",
   "metadata": {},
   "outputs": [
    {
     "data": {
      "image/png": "[encoded data removed]",
      "text/plain": [
       "<Figure size 720x432 with 1 Axes>"
      ]
     },
     "metadata": {
      "needs_background": "light"
     },
     "output_type": "display_data"
    }
   ],
   "source": [
    "plt.figure(figsize = (10,6))\n",
    "algorithms=['SVM','RF','DT ', 'Adaboost', 'ANN', 'KNN', 'GBM']\n",
    "plt.boxplot((svm_acc, rf_acc, dec_acc, ada_acc, ann_acc, knn_acc, gbm_acc),\n",
    "            labels=algorithms,\n",
    "            patch_artist=True, # 要求用自定义颜色填充盒形图，默认白色填充\n",
    "            boxprops = {'color':'black','facecolor':'#9999ff'}, # 设置箱体属性，填充色和边框色\n",
    "            flierprops = {'marker':'o','markerfacecolor':'red','color':'black'}, # 设置异常值属性，点的形状、填充色和边框色\n",
    "            meanprops = {'marker':'D','markerfacecolor':'indianred'}, # 设置均值点的属性，点的形状、填充色\n",
    "            medianprops = {'linestyle':'--','color':'orange'}) # 设置中位数线的属性，线的类型和颜色\n",
    "\n",
    "plt.xticks(rotation=30,fontsize=25)\n",
    "plt.yticks(fontsize=25)\n",
    "plt.ylim(0.3, 1)\n",
    "#plt.title(\"The accuracy of classification models\",fontsize=25)\n",
    "plt.ylabel(\"Accuracy\",fontsize=25)\n",
    "plt.xlabel(\"Algorithms(Classifier)\",fontsize=25)\n",
    "plt.show()"
   ]
  },
  {
   "cell_type": "markdown",
   "id": "514d41b4",
   "metadata": {},
   "source": [
    "### 随机森林效果最好"
   ]
  },
  {
   "cell_type": "code",
   "execution_count": null,
   "id": "72251d96",
   "metadata": {},
   "outputs": [],
   "source": []
  }
 ],
 "metadata": {
  "kernelspec": {
   "display_name": "Python 3",
   "language": "python",
   "name": "python3"
  },
  "language_info": {
   "codemirror_mode": {
    "name": "ipython",
    "version": 3
   },
   "file_extension": ".py",
   "mimetype": "text/x-python",
   "name": "python",
   "nbconvert_exporter": "python",
   "pygments_lexer": "ipython3",
   "version": "3.6.13"
  }
 },
 "nbformat": 4,
 "nbformat_minor": 5
}
